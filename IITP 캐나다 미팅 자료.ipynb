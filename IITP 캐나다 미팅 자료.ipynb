{
 "cells": [
  {
   "cell_type": "markdown",
   "id": "3b9fcd00-6f65-47f7-ada8-0501867cfed4",
   "metadata": {},
   "source": [
    "### 2021 IITP 글로벌 핵심인재 양성 지원 사업 (캐나다 : 댈하우지 대학교)\n",
    "\n",
    "- 예정기간 : 2021.09.01 ~ 2022.02.28 (비자처리 깔끔하다는 가정하)\n",
    "- 박사 과정 5, 석사 과정 2\n",
    "- 해야할일 : <strong>유학원 컨텍 (중요)</strong>, 기숙사 or 렌트, 비행기 표, 등등\n"
   ]
  },
  {
   "cell_type": "code",
   "execution_count": 21,
   "id": "648bd613-ea63-4fc8-bc05-6ccddac4be60",
   "metadata": {
    "jupyter": {
     "source_hidden": true
    },
    "scrolled": true,
    "tags": []
   },
   "outputs": [
    {
     "data": {
      "text/html": [
       "<div style=\"width:100%;\"><div style=\"position:relative;width:100%;height:0;padding-bottom:60%;\"><span style=\"color:#565656\">Make this Notebook Trusted to load map: File -> Trust Notebook</span><iframe src=\"about:blank\" style=\"position:absolute;width:100%;height:100%;left:0;top:0;border:none !important;\" data-html=%3C%21DOCTYPE%20html%3E%0A%3Chead%3E%20%20%20%20%0A%20%20%20%20%3Cmeta%20http-equiv%3D%22content-type%22%20content%3D%22text/html%3B%20charset%3DUTF-8%22%20/%3E%0A%20%20%20%20%0A%20%20%20%20%20%20%20%20%3Cscript%3E%0A%20%20%20%20%20%20%20%20%20%20%20%20L_NO_TOUCH%20%3D%20false%3B%0A%20%20%20%20%20%20%20%20%20%20%20%20L_DISABLE_3D%20%3D%20false%3B%0A%20%20%20%20%20%20%20%20%3C/script%3E%0A%20%20%20%20%0A%20%20%20%20%3Cstyle%3Ehtml%2C%20body%20%7Bwidth%3A%20100%25%3Bheight%3A%20100%25%3Bmargin%3A%200%3Bpadding%3A%200%3B%7D%3C/style%3E%0A%20%20%20%20%3Cstyle%3E%23map%20%7Bposition%3Aabsolute%3Btop%3A0%3Bbottom%3A0%3Bright%3A0%3Bleft%3A0%3B%7D%3C/style%3E%0A%20%20%20%20%3Cscript%20src%3D%22https%3A//cdn.jsdelivr.net/npm/leaflet%401.6.0/dist/leaflet.js%22%3E%3C/script%3E%0A%20%20%20%20%3Cscript%20src%3D%22https%3A//code.jquery.com/jquery-1.12.4.min.js%22%3E%3C/script%3E%0A%20%20%20%20%3Cscript%20src%3D%22https%3A//maxcdn.bootstrapcdn.com/bootstrap/3.2.0/js/bootstrap.min.js%22%3E%3C/script%3E%0A%20%20%20%20%3Cscript%20src%3D%22https%3A//cdnjs.cloudflare.com/ajax/libs/Leaflet.awesome-markers/2.0.2/leaflet.awesome-markers.js%22%3E%3C/script%3E%0A%20%20%20%20%3Clink%20rel%3D%22stylesheet%22%20href%3D%22https%3A//cdn.jsdelivr.net/npm/leaflet%401.6.0/dist/leaflet.css%22/%3E%0A%20%20%20%20%3Clink%20rel%3D%22stylesheet%22%20href%3D%22https%3A//maxcdn.bootstrapcdn.com/bootstrap/3.2.0/css/bootstrap.min.css%22/%3E%0A%20%20%20%20%3Clink%20rel%3D%22stylesheet%22%20href%3D%22https%3A//maxcdn.bootstrapcdn.com/bootstrap/3.2.0/css/bootstrap-theme.min.css%22/%3E%0A%20%20%20%20%3Clink%20rel%3D%22stylesheet%22%20href%3D%22https%3A//maxcdn.bootstrapcdn.com/font-awesome/4.6.3/css/font-awesome.min.css%22/%3E%0A%20%20%20%20%3Clink%20rel%3D%22stylesheet%22%20href%3D%22https%3A//cdnjs.cloudflare.com/ajax/libs/Leaflet.awesome-markers/2.0.2/leaflet.awesome-markers.css%22/%3E%0A%20%20%20%20%3Clink%20rel%3D%22stylesheet%22%20href%3D%22https%3A//cdn.jsdelivr.net/gh/python-visualization/folium/folium/templates/leaflet.awesome.rotate.min.css%22/%3E%0A%20%20%20%20%0A%20%20%20%20%20%20%20%20%20%20%20%20%3Cmeta%20name%3D%22viewport%22%20content%3D%22width%3Ddevice-width%2C%0A%20%20%20%20%20%20%20%20%20%20%20%20%20%20%20%20initial-scale%3D1.0%2C%20maximum-scale%3D1.0%2C%20user-scalable%3Dno%22%20/%3E%0A%20%20%20%20%20%20%20%20%20%20%20%20%3Cstyle%3E%0A%20%20%20%20%20%20%20%20%20%20%20%20%20%20%20%20%23map_fe0007bd446940648ef715f8dfb36b0c%20%7B%0A%20%20%20%20%20%20%20%20%20%20%20%20%20%20%20%20%20%20%20%20position%3A%20relative%3B%0A%20%20%20%20%20%20%20%20%20%20%20%20%20%20%20%20%20%20%20%20width%3A%20100.0%25%3B%0A%20%20%20%20%20%20%20%20%20%20%20%20%20%20%20%20%20%20%20%20height%3A%20100.0%25%3B%0A%20%20%20%20%20%20%20%20%20%20%20%20%20%20%20%20%20%20%20%20left%3A%200.0%25%3B%0A%20%20%20%20%20%20%20%20%20%20%20%20%20%20%20%20%20%20%20%20top%3A%200.0%25%3B%0A%20%20%20%20%20%20%20%20%20%20%20%20%20%20%20%20%7D%0A%20%20%20%20%20%20%20%20%20%20%20%20%3C/style%3E%0A%20%20%20%20%20%20%20%20%0A%20%20%20%20%3Cscript%20src%3D%22https%3A//cdnjs.cloudflare.com/ajax/libs/leaflet-minimap/3.6.1/Control.MiniMap.js%22%3E%3C/script%3E%0A%20%20%20%20%3Clink%20rel%3D%22stylesheet%22%20href%3D%22https%3A//cdnjs.cloudflare.com/ajax/libs/leaflet-minimap/3.6.1/Control.MiniMap.css%22/%3E%0A%3C/head%3E%0A%3Cbody%3E%20%20%20%20%0A%20%20%20%20%0A%20%20%20%20%20%20%20%20%20%20%20%20%3Cdiv%20class%3D%22folium-map%22%20id%3D%22map_fe0007bd446940648ef715f8dfb36b0c%22%20%3E%3C/div%3E%0A%20%20%20%20%20%20%20%20%0A%3C/body%3E%0A%3Cscript%3E%20%20%20%20%0A%20%20%20%20%0A%20%20%20%20%20%20%20%20%20%20%20%20var%20map_fe0007bd446940648ef715f8dfb36b0c%20%3D%20L.map%28%0A%20%20%20%20%20%20%20%20%20%20%20%20%20%20%20%20%22map_fe0007bd446940648ef715f8dfb36b0c%22%2C%0A%20%20%20%20%20%20%20%20%20%20%20%20%20%20%20%20%7B%0A%20%20%20%20%20%20%20%20%20%20%20%20%20%20%20%20%20%20%20%20center%3A%20%5B44.636581%2C%20-63.591655%5D%2C%0A%20%20%20%20%20%20%20%20%20%20%20%20%20%20%20%20%20%20%20%20crs%3A%20L.CRS.EPSG3857%2C%0A%20%20%20%20%20%20%20%20%20%20%20%20%20%20%20%20%20%20%20%20zoom%3A%201%2C%0A%20%20%20%20%20%20%20%20%20%20%20%20%20%20%20%20%20%20%20%20zoomControl%3A%20true%2C%0A%20%20%20%20%20%20%20%20%20%20%20%20%20%20%20%20%20%20%20%20preferCanvas%3A%20false%2C%0A%20%20%20%20%20%20%20%20%20%20%20%20%20%20%20%20%7D%0A%20%20%20%20%20%20%20%20%20%20%20%20%29%3B%0A%0A%20%20%20%20%20%20%20%20%20%20%20%20%0A%0A%20%20%20%20%20%20%20%20%0A%20%20%20%20%0A%20%20%20%20%20%20%20%20%20%20%20%20var%20tile_layer_780e942dacd246dca64be188bea90078%20%3D%20L.tileLayer%28%0A%20%20%20%20%20%20%20%20%20%20%20%20%20%20%20%20%22https%3A//%7Bs%7D.tile.openstreetmap.org/%7Bz%7D/%7Bx%7D/%7By%7D.png%22%2C%0A%20%20%20%20%20%20%20%20%20%20%20%20%20%20%20%20%7B%22attribution%22%3A%20%22Data%20by%20%5Cu0026copy%3B%20%5Cu003ca%20href%3D%5C%22http%3A//openstreetmap.org%5C%22%5Cu003eOpenStreetMap%5Cu003c/a%5Cu003e%2C%20under%20%5Cu003ca%20href%3D%5C%22http%3A//www.openstreetmap.org/copyright%5C%22%5Cu003eODbL%5Cu003c/a%5Cu003e.%22%2C%20%22detectRetina%22%3A%20false%2C%20%22maxNativeZoom%22%3A%2018%2C%20%22maxZoom%22%3A%2018%2C%20%22minZoom%22%3A%200%2C%20%22noWrap%22%3A%20false%2C%20%22opacity%22%3A%201%2C%20%22subdomains%22%3A%20%22abc%22%2C%20%22tms%22%3A%20false%7D%0A%20%20%20%20%20%20%20%20%20%20%20%20%29.addTo%28map_fe0007bd446940648ef715f8dfb36b0c%29%3B%0A%20%20%20%20%20%20%20%20%0A%20%20%20%20%0A%20%20%20%20%20%20%20%20%20%20%20%20var%20tile_layer_b76c8f39714444e3aea6347ed7466d8d%20%3D%20L.tileLayer%28%0A%20%20%20%20%20%20%20%20%20%20%20%20%20%20%20%20%22https%3A//%7Bs%7D.tile.openstreetmap.org/%7Bz%7D/%7Bx%7D/%7By%7D.png%22%2C%0A%20%20%20%20%20%20%20%20%20%20%20%20%20%20%20%20%7B%22attribution%22%3A%20%22Data%20by%20%5Cu0026copy%3B%20%5Cu003ca%20href%3D%5C%22http%3A//openstreetmap.org%5C%22%5Cu003eOpenStreetMap%5Cu003c/a%5Cu003e%2C%20under%20%5Cu003ca%20href%3D%5C%22http%3A//www.openstreetmap.org/copyright%5C%22%5Cu003eODbL%5Cu003c/a%5Cu003e.%22%2C%20%22detectRetina%22%3A%20false%2C%20%22maxNativeZoom%22%3A%2018%2C%20%22maxZoom%22%3A%2018%2C%20%22minZoom%22%3A%200%2C%20%22noWrap%22%3A%20false%2C%20%22opacity%22%3A%201%2C%20%22subdomains%22%3A%20%22abc%22%2C%20%22tms%22%3A%20false%7D%0A%20%20%20%20%20%20%20%20%20%20%20%20%29%3B%0A%20%20%20%20%20%20%20%20%20%20%20%20var%20mini_map_5d87b90d064243fc8ac1585f533371be%20%3D%20new%20L.Control.MiniMap%28%0A%20%20%20%20%20%20%20%20%20%20%20%20%20%20%20%20tile_layer_b76c8f39714444e3aea6347ed7466d8d%2C%0A%20%20%20%20%20%20%20%20%20%20%20%20%20%20%20%20%7B%22autoToggleDisplay%22%3A%20false%2C%20%22centerFixed%22%3A%20false%2C%20%22collapsedHeight%22%3A%2025%2C%20%22collapsedWidth%22%3A%2025%2C%20%22height%22%3A%20150%2C%20%22minimized%22%3A%20false%2C%20%22position%22%3A%20%22bottomright%22%2C%20%22toggleDisplay%22%3A%20false%2C%20%22width%22%3A%20150%2C%20%22zoomAnimation%22%3A%20false%2C%20%22zoomLevelOffset%22%3A%20-5%7D%0A%20%20%20%20%20%20%20%20%20%20%20%20%29%3B%0A%20%20%20%20%20%20%20%20%20%20%20%20map_fe0007bd446940648ef715f8dfb36b0c.addControl%28mini_map_5d87b90d064243fc8ac1585f533371be%29%3B%0A%20%20%20%20%20%20%20%20%0A%20%20%20%20%0A%20%20%20%20%20%20%20%20%20%20%20%20var%20marker_ff36a1ee93da41cc89e9c028ee5173cd%20%3D%20L.marker%28%0A%20%20%20%20%20%20%20%20%20%20%20%20%20%20%20%20%5B44.636581%2C%20-63.591655%5D%2C%0A%20%20%20%20%20%20%20%20%20%20%20%20%20%20%20%20%7B%7D%0A%20%20%20%20%20%20%20%20%20%20%20%20%29.addTo%28map_fe0007bd446940648ef715f8dfb36b0c%29%3B%0A%20%20%20%20%20%20%20%20%0A%20%20%20%20%0A%20%20%20%20%20%20%20%20%20%20%20%20var%20icon_e9c5113417cd47b9acd5c18744c93d14%20%3D%20L.AwesomeMarkers.icon%28%0A%20%20%20%20%20%20%20%20%20%20%20%20%20%20%20%20%7B%22extraClasses%22%3A%20%22fa-rotate-0%22%2C%20%22icon%22%3A%20%22info-sign%22%2C%20%22iconColor%22%3A%20%22white%22%2C%20%22markerColor%22%3A%20%22red%22%2C%20%22prefix%22%3A%20%22glyphicon%22%7D%0A%20%20%20%20%20%20%20%20%20%20%20%20%29%3B%0A%20%20%20%20%20%20%20%20%20%20%20%20marker_ff36a1ee93da41cc89e9c028ee5173cd.setIcon%28icon_e9c5113417cd47b9acd5c18744c93d14%29%3B%0A%20%20%20%20%20%20%20%20%0A%20%20%20%20%0A%20%20%20%20%20%20%20%20var%20popup_804da1475c3047da8cf5ff56e0d5e7c2%20%3D%20L.popup%28%7B%22maxWidth%22%3A%20%22100%25%22%7D%29%3B%0A%0A%20%20%20%20%20%20%20%20%0A%20%20%20%20%20%20%20%20%20%20%20%20var%20html_dc651f6ef565484cb155484e4a4fe981%20%3D%20%24%28%60%3Cdiv%20id%3D%22html_dc651f6ef565484cb155484e4a4fe981%22%20style%3D%22width%3A%20100.0%25%3B%20height%3A%20100.0%25%3B%22%3E%EB%8C%88%ED%95%98%EC%9A%B0%EC%A7%80%20%EB%8C%80%ED%95%99%EA%B5%90%3C/div%3E%60%29%5B0%5D%3B%0A%20%20%20%20%20%20%20%20%20%20%20%20popup_804da1475c3047da8cf5ff56e0d5e7c2.setContent%28html_dc651f6ef565484cb155484e4a4fe981%29%3B%0A%20%20%20%20%20%20%20%20%0A%0A%20%20%20%20%20%20%20%20marker_ff36a1ee93da41cc89e9c028ee5173cd.bindPopup%28popup_804da1475c3047da8cf5ff56e0d5e7c2%29%0A%20%20%20%20%20%20%20%20%3B%0A%0A%20%20%20%20%20%20%20%20%0A%20%20%20%20%0A%20%20%20%20%0A%20%20%20%20%20%20%20%20%20%20%20%20marker_ff36a1ee93da41cc89e9c028ee5173cd.bindTooltip%28%0A%20%20%20%20%20%20%20%20%20%20%20%20%20%20%20%20%60%3Cdiv%3E%0A%20%20%20%20%20%20%20%20%20%20%20%20%20%20%20%20%20%20%20%20%20%EB%8C%88%ED%95%98%EC%9A%B0%EC%A7%80%20%EB%8C%80%ED%95%99%EA%B5%90%0A%20%20%20%20%20%20%20%20%20%20%20%20%20%20%20%20%20%3C/div%3E%60%2C%0A%20%20%20%20%20%20%20%20%20%20%20%20%20%20%20%20%7B%22sticky%22%3A%20true%7D%0A%20%20%20%20%20%20%20%20%20%20%20%20%29%3B%0A%20%20%20%20%20%20%20%20%0A%20%20%20%20%0A%20%20%20%20%20%20%20%20%20%20%20%20var%20marker_0ea2dd1292334a78bcad108d1132062b%20%3D%20L.marker%28%0A%20%20%20%20%20%20%20%20%20%20%20%20%20%20%20%20%5B37.3781839%2C%20126.4539891%5D%2C%0A%20%20%20%20%20%20%20%20%20%20%20%20%20%20%20%20%7B%7D%0A%20%20%20%20%20%20%20%20%20%20%20%20%29.addTo%28map_fe0007bd446940648ef715f8dfb36b0c%29%3B%0A%20%20%20%20%20%20%20%20%0A%20%20%20%20%0A%20%20%20%20%20%20%20%20%20%20%20%20var%20icon_7de24ca151054e6fa19877ef515dd2c0%20%3D%20L.AwesomeMarkers.icon%28%0A%20%20%20%20%20%20%20%20%20%20%20%20%20%20%20%20%7B%22extraClasses%22%3A%20%22fa-rotate-0%22%2C%20%22icon%22%3A%20%22info-sign%22%2C%20%22iconColor%22%3A%20%22white%22%2C%20%22markerColor%22%3A%20%22blue%22%2C%20%22prefix%22%3A%20%22glyphicon%22%7D%0A%20%20%20%20%20%20%20%20%20%20%20%20%29%3B%0A%20%20%20%20%20%20%20%20%20%20%20%20marker_0ea2dd1292334a78bcad108d1132062b.setIcon%28icon_7de24ca151054e6fa19877ef515dd2c0%29%3B%0A%20%20%20%20%20%20%20%20%0A%20%20%20%20%0A%20%20%20%20%20%20%20%20var%20popup_ab8fd4802ce04577be1eafa83dd3d162%20%3D%20L.popup%28%7B%22maxWidth%22%3A%20%22100%25%22%7D%29%3B%0A%0A%20%20%20%20%20%20%20%20%0A%20%20%20%20%20%20%20%20%20%20%20%20var%20html_5e741f636b134c499f18afbae7c60bdb%20%3D%20%24%28%60%3Cdiv%20id%3D%22html_5e741f636b134c499f18afbae7c60bdb%22%20style%3D%22width%3A%20100.0%25%3B%20height%3A%20100.0%25%3B%22%3E%EC%9D%B8%EC%B2%9C%EA%B5%AD%EC%A0%9C%EA%B3%B5%ED%95%AD%3C/div%3E%60%29%5B0%5D%3B%0A%20%20%20%20%20%20%20%20%20%20%20%20popup_ab8fd4802ce04577be1eafa83dd3d162.setContent%28html_5e741f636b134c499f18afbae7c60bdb%29%3B%0A%20%20%20%20%20%20%20%20%0A%0A%20%20%20%20%20%20%20%20marker_0ea2dd1292334a78bcad108d1132062b.bindPopup%28popup_ab8fd4802ce04577be1eafa83dd3d162%29%0A%20%20%20%20%20%20%20%20%3B%0A%0A%20%20%20%20%20%20%20%20%0A%20%20%20%20%0A%20%20%20%20%0A%20%20%20%20%20%20%20%20%20%20%20%20marker_0ea2dd1292334a78bcad108d1132062b.bindTooltip%28%0A%20%20%20%20%20%20%20%20%20%20%20%20%20%20%20%20%60%3Cdiv%3E%0A%20%20%20%20%20%20%20%20%20%20%20%20%20%20%20%20%20%20%20%20%20%EC%9D%B8%EC%B2%9C%EA%B5%AD%EC%A0%9C%EA%B3%B5%ED%95%AD%0A%20%20%20%20%20%20%20%20%20%20%20%20%20%20%20%20%20%3C/div%3E%60%2C%0A%20%20%20%20%20%20%20%20%20%20%20%20%20%20%20%20%7B%22sticky%22%3A%20true%7D%0A%20%20%20%20%20%20%20%20%20%20%20%20%29%3B%0A%20%20%20%20%20%20%20%20%0A%20%20%20%20%0A%20%20%20%20%20%20%20%20%20%20%20%20var%20marker_9ee14c2fd6374234830ca8e1f60018de%20%3D%20L.marker%28%0A%20%20%20%20%20%20%20%20%20%20%20%20%20%20%20%20%5B44.8786946%2C%20-63.4862188%5D%2C%0A%20%20%20%20%20%20%20%20%20%20%20%20%20%20%20%20%7B%7D%0A%20%20%20%20%20%20%20%20%20%20%20%20%29.addTo%28map_fe0007bd446940648ef715f8dfb36b0c%29%3B%0A%20%20%20%20%20%20%20%20%0A%20%20%20%20%0A%20%20%20%20%20%20%20%20%20%20%20%20var%20icon_82ecddb49a9c43899ad1d75269a0d335%20%3D%20L.AwesomeMarkers.icon%28%0A%20%20%20%20%20%20%20%20%20%20%20%20%20%20%20%20%7B%22extraClasses%22%3A%20%22fa-rotate-0%22%2C%20%22icon%22%3A%20%22info-sign%22%2C%20%22iconColor%22%3A%20%22white%22%2C%20%22markerColor%22%3A%20%22orange%22%2C%20%22prefix%22%3A%20%22glyphicon%22%7D%0A%20%20%20%20%20%20%20%20%20%20%20%20%29%3B%0A%20%20%20%20%20%20%20%20%20%20%20%20marker_9ee14c2fd6374234830ca8e1f60018de.setIcon%28icon_82ecddb49a9c43899ad1d75269a0d335%29%3B%0A%20%20%20%20%20%20%20%20%0A%20%20%20%20%0A%20%20%20%20%20%20%20%20var%20popup_5e6546915c5d4b25ad70a5850a3888f9%20%3D%20L.popup%28%7B%22maxWidth%22%3A%20%22100%25%22%7D%29%3B%0A%0A%20%20%20%20%20%20%20%20%0A%20%20%20%20%20%20%20%20%20%20%20%20var%20html_968322aa866d46df8a60b5432fbf783d%20%3D%20%24%28%60%3Cdiv%20id%3D%22html_968322aa866d46df8a60b5432fbf783d%22%20style%3D%22width%3A%20100.0%25%3B%20height%3A%20100.0%25%3B%22%3E%ED%95%A0%EB%A6%AC%ED%8C%A9%EC%8A%A4%20%EC%8A%A4%ED%83%A0%ED%95%84%EB%93%9C%20%EA%B5%AD%EC%A0%9C%EA%B3%B5%ED%95%AD%3C/div%3E%60%29%5B0%5D%3B%0A%20%20%20%20%20%20%20%20%20%20%20%20popup_5e6546915c5d4b25ad70a5850a3888f9.setContent%28html_968322aa866d46df8a60b5432fbf783d%29%3B%0A%20%20%20%20%20%20%20%20%0A%0A%20%20%20%20%20%20%20%20marker_9ee14c2fd6374234830ca8e1f60018de.bindPopup%28popup_5e6546915c5d4b25ad70a5850a3888f9%29%0A%20%20%20%20%20%20%20%20%3B%0A%0A%20%20%20%20%20%20%20%20%0A%20%20%20%20%0A%20%20%20%20%0A%20%20%20%20%20%20%20%20%20%20%20%20marker_9ee14c2fd6374234830ca8e1f60018de.bindTooltip%28%0A%20%20%20%20%20%20%20%20%20%20%20%20%20%20%20%20%60%3Cdiv%3E%0A%20%20%20%20%20%20%20%20%20%20%20%20%20%20%20%20%20%20%20%20%20%ED%95%A0%EB%A6%AC%ED%8C%A9%EC%8A%A4%20%EC%8A%A4%ED%83%A0%ED%95%84%EB%93%9C%20%EA%B5%AD%EC%A0%9C%EA%B3%B5%ED%95%AD%0A%20%20%20%20%20%20%20%20%20%20%20%20%20%20%20%20%20%3C/div%3E%60%2C%0A%20%20%20%20%20%20%20%20%20%20%20%20%20%20%20%20%7B%22sticky%22%3A%20true%7D%0A%20%20%20%20%20%20%20%20%20%20%20%20%29%3B%0A%20%20%20%20%20%20%20%20%0A%20%20%20%20%0A%20%20%20%20%20%20%20%20%20%20%20%20var%20marker_b886e8169be4405a900f41f6624b7290%20%3D%20L.marker%28%0A%20%20%20%20%20%20%20%20%20%20%20%20%20%20%20%20%5B43.6777176%2C%20-79.6270084%5D%2C%0A%20%20%20%20%20%20%20%20%20%20%20%20%20%20%20%20%7B%7D%0A%20%20%20%20%20%20%20%20%20%20%20%20%29.addTo%28map_fe0007bd446940648ef715f8dfb36b0c%29%3B%0A%20%20%20%20%20%20%20%20%0A%20%20%20%20%0A%20%20%20%20%20%20%20%20%20%20%20%20var%20icon_44d4bfe0eb084f0e9b6743e9b6f46297%20%3D%20L.AwesomeMarkers.icon%28%0A%20%20%20%20%20%20%20%20%20%20%20%20%20%20%20%20%7B%22extraClasses%22%3A%20%22fa-rotate-0%22%2C%20%22icon%22%3A%20%22info-sign%22%2C%20%22iconColor%22%3A%20%22white%22%2C%20%22markerColor%22%3A%20%22green%22%2C%20%22prefix%22%3A%20%22glyphicon%22%7D%0A%20%20%20%20%20%20%20%20%20%20%20%20%29%3B%0A%20%20%20%20%20%20%20%20%20%20%20%20marker_b886e8169be4405a900f41f6624b7290.setIcon%28icon_44d4bfe0eb084f0e9b6743e9b6f46297%29%3B%0A%20%20%20%20%20%20%20%20%0A%20%20%20%20%0A%20%20%20%20%20%20%20%20var%20popup_33ca2bc467254cbaa0f588c9851df783%20%3D%20L.popup%28%7B%22maxWidth%22%3A%20%22100%25%22%7D%29%3B%0A%0A%20%20%20%20%20%20%20%20%0A%20%20%20%20%20%20%20%20%20%20%20%20var%20html_dc19db67afd14bb6b88141972588b9b9%20%3D%20%24%28%60%3Cdiv%20id%3D%22html_dc19db67afd14bb6b88141972588b9b9%22%20style%3D%22width%3A%20100.0%25%3B%20height%3A%20100.0%25%3B%22%3E%ED%86%A0%EB%A1%9D%ED%86%A0%20%ED%94%BC%EC%96%B4%EC%8A%A8%20%EA%B5%AD%EC%A0%9C%EA%B3%B5%ED%95%AD%3C/div%3E%60%29%5B0%5D%3B%0A%20%20%20%20%20%20%20%20%20%20%20%20popup_33ca2bc467254cbaa0f588c9851df783.setContent%28html_dc19db67afd14bb6b88141972588b9b9%29%3B%0A%20%20%20%20%20%20%20%20%0A%0A%20%20%20%20%20%20%20%20marker_b886e8169be4405a900f41f6624b7290.bindPopup%28popup_33ca2bc467254cbaa0f588c9851df783%29%0A%20%20%20%20%20%20%20%20%3B%0A%0A%20%20%20%20%20%20%20%20%0A%20%20%20%20%0A%20%20%20%20%0A%20%20%20%20%20%20%20%20%20%20%20%20marker_b886e8169be4405a900f41f6624b7290.bindTooltip%28%0A%20%20%20%20%20%20%20%20%20%20%20%20%20%20%20%20%60%3Cdiv%3E%0A%20%20%20%20%20%20%20%20%20%20%20%20%20%20%20%20%20%20%20%20%20%ED%86%A0%EB%A1%A0%ED%86%A0%20%ED%94%BC%EC%96%B4%EC%8A%A8%20%EA%B5%AD%EC%A0%9C%EA%B3%B5%ED%95%AD%0A%20%20%20%20%20%20%20%20%20%20%20%20%20%20%20%20%20%3C/div%3E%60%2C%0A%20%20%20%20%20%20%20%20%20%20%20%20%20%20%20%20%7B%22sticky%22%3A%20true%7D%0A%20%20%20%20%20%20%20%20%20%20%20%20%29%3B%0A%20%20%20%20%20%20%20%20%0A%3C/script%3E onload=\"this.contentDocument.open();this.contentDocument.write(    decodeURIComponent(this.getAttribute('data-html')));this.contentDocument.close();\" allowfullscreen webkitallowfullscreen mozallowfullscreen></iframe></div></div>"
      ],
      "text/plain": [
       "<folium.folium.Map at 0x13330156cd0>"
      ]
     },
     "execution_count": 21,
     "metadata": {},
     "output_type": "execute_result"
    }
   ],
   "source": [
    "import folium\n",
    "from folium.plugins import MiniMap\n",
    "\n",
    "m = folium.Map(location = [44.636581, -63.591655], zoom_start=1)\n",
    "minimap = MiniMap() \n",
    "m.add_child(minimap)\n",
    "folium.Marker([44.636581, -63.591655], tooltip= \"댈하우지 대학교\",\n",
    "             popup =\"댈하우지 대학교\",icon=folium.Icon(color = 'red')).add_to(m)\n",
    "folium.Marker([37.3781839,126.4539891], tooltip= \"인천국제공항\",\n",
    "             popup =\"인천국제공항\", icon=folium.Icon(color = 'blue')).add_to(m)\n",
    "folium.Marker([44.8786946,-63.4862188], tooltip= \"할리팩스 스탠필드 국제공항\",\n",
    "             popup =\"할리팩스 스탠필드 국제공항\", icon=folium.Icon(color = 'orange')).add_to(m)\n",
    "folium.Marker([43.6777176,-79.6270084], tooltip= \"토론토 피어슨 국제공항\",\n",
    "             popup =\"토록토 피어슨 국제공항\", icon=folium.Icon(color = 'green')).add_to(m)\n",
    "m "
   ]
  },
  {
   "cell_type": "markdown",
   "id": "b14b00e6-2751-454f-8ab1-1c442dfd79cb",
   "metadata": {},
   "source": [
    "- 혹시나 내용에 대해 더 자세히 알고싶은 분들은 [사업계획서](https://www.dropbox.com/s/fllbhn42bhputo0/%28%EA%B3%B5%EB%8F%99%EC%97%B0%EA%B5%AC%29_%EC%A7%80%EB%8A%A5%ED%98%95%EC%A0%95%EB%B3%B4%EA%B8%B0%EC%88%A0%20%EA%B8%B0%EB%B0%98%20%ED%99%98%EA%B2%BD%EC%98%A4%EC%97%BC%20%ED%8A%B9%EC%84%B1%20%EB%B0%8F%20%EC%9D%B8%EC%B2%B4%20%EC%9C%84%ED%95%B4%EC%84%B1%20%ED%8F%89%EA%B0%80%28%EB%B6%80%EA%B2%BD%EB%8C%80%ED%95%99%EA%B5%90%2C%20%EC%96%91%EB%AF%BC%EC%A4%80%29_%EC%82%AC%EC%97%85%EA%B3%84%ED%9A%8D%EC%84%9C.hwp?dl=0) 참고\n",
    "- [2020 IITP 캐나다 팀 서류준비 관련 내용들](https://www.dropbox.com/s/ok2lvv4pz21c3g7/%EC%BA%98%EA%B1%B0%EB%A6%AC%EB%8C%80%ED%95%99%EA%B5%90%20%EB%B9%84%EC%9E%90%20%EC%A4%80%EB%B9%84%EA%B3%BC%EC%A0%95.zip?dl=0)"
   ]
  },
  {
   "cell_type": "markdown",
   "id": "738674ab-716d-4327-b3d3-66b24e53a0e2",
   "metadata": {},
   "source": [
    "### 유학원 컨텍\n",
    "\n",
    "- 비자준비 등 출국과 관련된것들을 도와주는 실질적인 곳\n",
    "- 유학원은 주로 유학준비, 어학연수 등의 용도로 사용\n",
    "- 우리는 비자준비만 도움을 받을 예정 (왜? 이미 실험실 컨텍 다 되어있고, 학교다 정해져있어서 들어만 가면됨)\n",
    "- 우리의 생각만으로는 비자관련 준비들을 다하기는 힘든 실정\n",
    "\n",
    "\n",
    "- 따라서, <strong> 유학원 컨텍 시, 비자준비만 도움을 받을 수 있냐고 물어볼 것! </strong>\n",
    "\n",
    "- 또한, 현지에서 도움 받을 수 있는 유학원 위주로 알아 볼 예정\n",
    "- <strong> 1. 계약금 2. 현지에서 도움 받을 수 있는 유학원 </strong> 으로 각자 알아보고 리스트 업 하시면 그 중 괜찮은 유학원과 빠르게 컨택할 예정\n",
    "\n",
    "\n",
    "---\n",
    "\n",
    "### 고려해야할 상황들\n",
    "\n",
    "1. 유학원 알아보기 (비자 + 건강검진 + 바이오메트릭 등등)\n",
    "2. 비행기 표 (비자 나오는 시점 기준으로 출국)\n",
    "3. 기숙사 및 에어비엔비 (인원을 어떻게 분배할 예정인지? 등등)\n",
    "\n",
    "- 관련해서 캐나다 교수님과 조만간 대화할 수 있는 장을 열 예정\n",
    "\n",
    "\n",
    "---\n",
    "\n",
    "### 사용가능한 예산\n",
    "\n",
    "- [학생 사용 가능 예산](https://www.dropbox.com/scl/fi/8cxol0cd0lmxqw8f4dxjx/.xlsx?dl=0&rlkey=095p5wsexmzww40895ykd5k66) 참고\n",
    "- 캐나다생활 : 인건비 (박사, 석사 인건비) + 체제비 (약 월 1,700,000) \n",
    "- 파견인력 출국준비금 : 1인당 4,800,000 : 항공비 + 등록비 + 보험 + 유학원 등등등\n",
    "- 출장비 : AGU 및 해외학회 등록비 (1회) 와 학회 참석간 출장비 포함\n",
    "\n",
    "\n",
    "---\n",
    "\n",
    "### 팀\n",
    "\n",
    "- 1팀 : 한수빈, 문다솜 (B13)\n",
    "- 2팀 : 김정훈, 김경태, 손상훈 (B14)\n",
    "- 3팀 : 김수빈, 김태용 (양민준 교수님방, 최종 결제 담당)\n",
    "\n",
    "---\n",
    "\n",
    "### 사업관련 QnA"
   ]
  },
  {
   "cell_type": "code",
   "execution_count": null,
   "id": "4b9ca22c-0b1f-4198-923b-5d41d069d5a1",
   "metadata": {},
   "outputs": [],
   "source": []
  }
 ],
 "metadata": {
  "kernelspec": {
   "display_name": "Python 3",
   "language": "python",
   "name": "python3"
  },
  "language_info": {
   "codemirror_mode": {
    "name": "ipython",
    "version": 3
   },
   "file_extension": ".py",
   "mimetype": "text/x-python",
   "name": "python",
   "nbconvert_exporter": "python",
   "pygments_lexer": "ipython3",
   "version": "3.9.4"
  }
 },
 "nbformat": 4,
 "nbformat_minor": 5
}
