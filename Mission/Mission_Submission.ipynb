{
  "nbformat": 4,
  "nbformat_minor": 0,
  "metadata": {
    "colab": {
      "name": "Mission_Submission_V2_.ipynb",
      "provenance": [],
      "collapsed_sections": [],
      "include_colab_link": true
    },
    "kernelspec": {
      "name": "python3",
      "display_name": "Python 3"
    }
  },
  "cells": [
    {
      "cell_type": "markdown",
      "metadata": {
        "id": "view-in-github",
        "colab_type": "text"
      },
      "source": [
        "<a href=\"https://colab.research.google.com/github/Teddy0315/Mission/blob/master/Mission_Submission_V2_.ipynb\" target=\"_parent\"><img src=\"https://colab.research.google.com/assets/colab-badge.svg\" alt=\"Open In Colab\"/></a>"
      ]
    },
    {
      "cell_type": "markdown",
      "metadata": {
        "id": "Pkci_jqXCXqL",
        "colab_type": "text"
      },
      "source": [
        "# Mission Submission_김태용\n",
        "\n",
        "\n",
        "본 수식에서 가장 중요하게 생각한 부분인 r_a와 r_b 각각을 어떻게 처리해야 하는가 에 대한 제고찰을 정리하였습니다.\n",
        "\n",
        "\n",
        "\n"
      ]
    },
    {
      "cell_type": "markdown",
      "metadata": {
        "id": "mXe9giAPDaU4",
        "colab_type": "text"
      },
      "source": [
        "# 가정\n",
        "\n",
        "식을 간단하게 하기위해 가상의 유역을 설정하였습니다. 'A' 라는 유역의 정보는 다음과 같습니다.\n",
        "\n",
        "\n",
        "\n"
      ]
    },
    {
      "cell_type": "markdown",
      "metadata": {
        "id": "d3yyvYxHEi71",
        "colab_type": "text"
      },
      "source": [
        "*   A 유역의 Thickness ($B$) = 0.045 km = 50m\n",
        "\n",
        "*   A 유역의 장축 ($r_L$) = 50 km = 50000m\n",
        "\n",
        "* A 유역의 단축 ($r_S$) = 15 km = 15000m\n",
        "\n",
        "* 유역의 precipition 과 evarporation 의 차 ($w$) = 0.028 km / year = 28 m / year\n",
        "\n",
        "\n",
        "\n",
        "\n",
        "\n",
        "\n",
        "\n",
        "\n",
        "\n",
        "\n",
        "\n"
      ]
    },
    {
      "cell_type": "code",
      "metadata": {
        "id": "wzQ1cMydJHC_",
        "colab_type": "code",
        "colab": {}
      },
      "source": [
        "B = 50 # m\n",
        "r_L = 50000 # m\n",
        "r_S = 15000 # m\n",
        "w = 0.28 # m/yr"
      ],
      "execution_count": 0,
      "outputs": []
    },
    {
      "cell_type": "markdown",
      "metadata": {
        "id": "SBOk5mMjLfrz",
        "colab_type": "text"
      },
      "source": [
        "또한,  $\\,\\Delta\\, r_a$와 $\\,\\Delta\\, r_b$도 설정해 주었습니다."
      ]
    },
    {
      "cell_type": "markdown",
      "metadata": {
        "id": "ctGijO_WJ0ww",
        "colab_type": "text"
      },
      "source": [
        "* 유역 장축의 측정 지점간 거리차 ($\\,\\Delta\\, r_a$) = 0.5 km = 500 m\n",
        "\n",
        "* 유역 단축의 측정 지점간 거리차 ($\\,\\Delta\\, r_b$) = 0.15 km = 150 m "
      ]
    },
    {
      "cell_type": "code",
      "metadata": {
        "id": "4D8kSS8VLh5_",
        "colab_type": "code",
        "colab": {}
      },
      "source": [
        "delta_r_a = 500 # m\n",
        "delta_r_b = 150 # m"
      ],
      "execution_count": 0,
      "outputs": []
    },
    {
      "cell_type": "markdown",
      "metadata": {
        "id": "3hjlN5fOIZ-3",
        "colab_type": "text"
      },
      "source": [
        "# Single domain model"
      ]
    },
    {
      "cell_type": "markdown",
      "metadata": {
        "id": "LXXgJJTlL_Wh",
        "colab_type": "text"
      },
      "source": [
        "\n",
        "다음 수식들은 time_avg 을 구하는데 필요한 수식들입니다."
      ]
    },
    {
      "cell_type": "markdown",
      "metadata": {
        "id": "s-X-N1HqMEY0",
        "colab_type": "text"
      },
      "source": [
        "\n",
        "* <h3> $Q_R \\,= \\,\\pi(r_Lr_S - r_ar_b)w$ \n",
        "\n",
        "* <h3> $L_r \\, = \\, \\pi[3(r_a + r_b) - \\sqrt{(3r_a + r_b)(r_a + 3r_B)}]$ <h3>\n",
        "\n",
        "* <h2> $q_{avg} \\,= \\, \\frac{Q_R}{L_rB}$<h2>\n",
        "\n",
        "\n"
      ]
    },
    {
      "cell_type": "markdown",
      "metadata": {
        "id": "rHVr87YCT6qN",
        "colab_type": "text"
      },
      "source": [
        "t_avg 를 다음과 같이 표기하였습니다.\n",
        "\n",
        "\n",
        "* <h2>$t_{avg} = \\frac{\\Delta\\ r_a}{q_{avg}} \\, \\frac{Q_R}{{Q_R}_{[r_a \\,= \\,0m]}} = \\frac{\\Delta\\ r_a}{{Q_R}_{[r_a \\,= \\,0m]}}L_rB$<h2>"
      ]
    },
    {
      "cell_type": "markdown",
      "metadata": {
        "id": "QexQUqEDedYY",
        "colab_type": "text"
      },
      "source": [
        "미션.xlsx 에선 list(r_a) 가 500m 부터 시작하므로 동일한 조건에서 평가 하기위해 다음식을 사용하였습니다.\n",
        "\n",
        "* <h2>$t_{avg} = \\frac{\\Delta\\ r_a}{q_{avg}} \\, \\frac{Q_R}{{Q_R}_{[r_a \\,= \\,500m]}} = \\frac{\\Delta\\ r_a}{{Q_R}_{[r_a \\,= \\,500m]}}L_rB$<h2>"
      ]
    },
    {
      "cell_type": "markdown",
      "metadata": {
        "id": "RKtn3qv5fgeA",
        "colab_type": "text"
      },
      "source": [
        "# Model evaluation"
      ]
    },
    {
      "cell_type": "code",
      "metadata": {
        "id": "6K4gz055Ois-",
        "colab_type": "code",
        "colab": {}
      },
      "source": [
        "import numpy as np\n",
        "import matplotlib.pyplot as plt\n",
        "import seaborn as sns"
      ],
      "execution_count": 0,
      "outputs": []
    },
    {
      "cell_type": "code",
      "metadata": {
        "id": "pXISEe8AflYp",
        "colab_type": "code",
        "colab": {}
      },
      "source": [
        "r_a = np.arange(500, 50000, delta_r_a) # m\n",
        "r_b = np.arange(150, 15000, delta_r_b) # m\n",
        "a = (3*r_a) + r_b # m\n",
        "b = r_a + (3*r_b) # m\n",
        "b = np.transpose(b) # transpose matrix\n",
        "L_r = np.pi*(3*(r_a + r_b) - np.sqrt(a*b)) # m\n",
        "Q_r = np.pi*(r_L*r_S - r_a*r_b)* w  # m^3 / year\n",
        "q_avg = Q_r /((L_r)*(B)) # m / year\n",
        "t_avg = (delta_r_a/Q_r[0])*L_r*B # year"
      ],
      "execution_count": 0,
      "outputs": []
    },
    {
      "cell_type": "code",
      "metadata": {
        "id": "kCzNJdRCjqw-",
        "colab_type": "code",
        "outputId": "36d09814-e605-4722-f5ac-27a58090dd69",
        "colab": {
          "base_uri": "https://localhost:8080/",
          "height": 360
        }
      },
      "source": [
        "sns.set(style = 'whitegrid')\n",
        "\n",
        "f, ax = plt.subplots(1, 1, figsize = (12, 5))\n",
        "sns.lineplot(x = r_a, y = q_avg)\n",
        "\n",
        "plt.xlabel('$r_a$ ($m$)')\n",
        "plt.ylabel('$q_{avg}$ ($m / year$)')"
      ],
      "execution_count": 19,
      "outputs": [
        {
          "output_type": "execute_result",
          "data": {
            "text/plain": [
              "Text(0, 0.5, '$q_{avg}$ ($m / year$)')"
            ]
          },
          "metadata": {
            "tags": []
          },
          "execution_count": 19
        },
        {
          "output_type": "display_data",
          "data": {
            "image/png": "[encoded data removed]",
            "text/plain": [
              "<Figure size 864x360 with 1 Axes>"
            ]
          },
          "metadata": {
            "tags": []
          }
        }
      ]
    },
    {
      "cell_type": "code",
      "metadata": {
        "id": "wM1kDUzXj1n1",
        "colab_type": "code",
        "outputId": "096a03ea-b453-40a2-c8b6-b473928210ad",
        "colab": {
          "base_uri": "https://localhost:8080/",
          "height": 360
        }
      },
      "source": [
        "f, ax = plt.subplots(1, 1, figsize = (12, 5))\n",
        "sns.lineplot(x = r_a, y = t_avg)\n",
        "\n",
        "plt.xlabel('$r_a$ ($m$)')\n",
        "plt.ylabel('$t_{avg}$ ($year$)')"
      ],
      "execution_count": 21,
      "outputs": [
        {
          "output_type": "execute_result",
          "data": {
            "text/plain": [
              "Text(0, 0.5, '$t_{avg}$ ($year$)')"
            ]
          },
          "metadata": {
            "tags": []
          },
          "execution_count": 21
        },
        {
          "output_type": "display_data",
          "data": {
            "image/png": "[encoded data removed]",
            "text/plain": [
              "<Figure size 864x360 with 1 Axes>"
            ]
          },
          "metadata": {
            "tags": []
          }
        }
      ]
    },
    {
      "cell_type": "markdown",
      "metadata": {
        "id": "H1MOkYfTgLWj",
        "colab_type": "text"
      },
      "source": [
        "Residence time의 평균은 다음과 같습니다."
      ]
    },
    {
      "cell_type": "code",
      "metadata": {
        "id": "XTwW-oMBXCRs",
        "colab_type": "code",
        "outputId": "06d5ebed-ae0a-43c3-f541-1595bf9cf4b5",
        "colab": {
          "base_uri": "https://localhost:8080/",
          "height": 35
        }
      },
      "source": [
        "print(\"mean of Residence time  : {} year\".format(np.mean(t_avg)))"
      ],
      "execution_count": 22,
      "outputs": [
        {
          "output_type": "stream",
          "text": [
            "mean of Residence time  : 4.155186932056947 year\n"
          ],
          "name": "stdout"
        }
      ]
    },
    {
      "cell_type": "code",
      "metadata": {
        "id": "c6mnMyDis3YA",
        "colab_type": "code",
        "colab": {}
      },
      "source": [
        ""
      ],
      "execution_count": 0,
      "outputs": []
    }
  ]
}